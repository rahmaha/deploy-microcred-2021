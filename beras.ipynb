{
  "cells": [
    {
      "cell_type": "code",
      "execution_count": null,
      "id": "4a0ef6bd",
      "metadata": {
        "id": "4a0ef6bd"
      },
      "outputs": [],
      "source": [
        ""
      ]
    },
    {
      "cell_type": "markdown",
      "source": [
        "Kelompok 06\n",
        "\n",
        "Anggota kelompok:\n",
        "\n",
        "1. Ahmad Azrial Nubail\n",
        "2. Priskila Destriani Banjarnahor\n",
        "3. Rahma Hayuning Astuti\n",
        "\n",
        "Kelas : UGM-04\n",
        "\n",
        "Universitas Host : Universitas Gadjah Mada"
      ],
      "metadata": {
        "id": "4nWkf73lSoBY"
      },
      "id": "4nWkf73lSoBY"
    },
    {
      "cell_type": "code",
      "source": [
        "from google.colab import drive\n",
        "drive.mount('/content/drive')"
      ],
      "metadata": {
        "colab": {
          "base_uri": "https://localhost:8080/"
        },
        "id": "h2Oo57NKqL1K",
        "outputId": "fc3cd7b8-6c77-4618-f3e4-3935ac312c41"
      },
      "id": "h2Oo57NKqL1K",
      "execution_count": null,
      "outputs": [
        {
          "output_type": "stream",
          "name": "stdout",
          "text": [
            "Mounted at /content/drive\n"
          ]
        }
      ]
    },
    {
      "cell_type": "code",
      "execution_count": null,
      "id": "d4d605ee",
      "metadata": {
        "id": "d4d605ee"
      },
      "outputs": [],
      "source": [
        "import warnings\n",
        "warnings.filterwarnings('ignore')\n",
        "import numpy as np \n",
        "import pandas as pd\n",
        "import seaborn as sns\n",
        "import matplotlib.pyplot as plt\n",
        "plt.style.use('fivethirtyeight')\n",
        "\n",
        "# import library for build model \n",
        "from keras.layers import Dense,Dropout,SimpleRNN,LSTM\n",
        "from keras.models import Sequential\n",
        "\n",
        "# import library untuk data preprocessing\n",
        "from sklearn.preprocessing import MinMaxScaler\n",
        "from sklearn.model_selection import train_test_split\n",
        "from sklearn.metrics import r2_score\n",
        "from datetime import datetime"
      ]
    },
    {
      "cell_type": "code",
      "execution_count": null,
      "id": "fc1eed56",
      "metadata": {
        "colab": {
          "base_uri": "https://localhost:8080/",
          "height": 455
        },
        "id": "fc1eed56",
        "outputId": "cb7d02cd-632f-467d-e3d7-1255d69897c6"
      },
      "outputs": [
        {
          "output_type": "execute_result",
          "data": {
            "text/html": [
              "<div>\n",
              "<style scoped>\n",
              "    .dataframe tbody tr th:only-of-type {\n",
              "        vertical-align: middle;\n",
              "    }\n",
              "\n",
              "    .dataframe tbody tr th {\n",
              "        vertical-align: top;\n",
              "    }\n",
              "\n",
              "    .dataframe thead th {\n",
              "        text-align: right;\n",
              "    }\n",
              "</style>\n",
              "<table border=\"1\" class=\"dataframe\">\n",
              "  <thead>\n",
              "    <tr style=\"text-align: right;\">\n",
              "      <th></th>\n",
              "      <th>Beras Kualitas Bawah</th>\n",
              "      <th>Beras Kualitas Medium</th>\n",
              "      <th>Beras Kualitas Super</th>\n",
              "    </tr>\n",
              "    <tr>\n",
              "      <th>Date</th>\n",
              "      <th></th>\n",
              "      <th></th>\n",
              "      <th></th>\n",
              "    </tr>\n",
              "  </thead>\n",
              "  <tbody>\n",
              "    <tr>\n",
              "      <th>2019-02-01</th>\n",
              "      <td>10800</td>\n",
              "      <td>11900</td>\n",
              "      <td>13150</td>\n",
              "    </tr>\n",
              "    <tr>\n",
              "      <th>2019-03-01</th>\n",
              "      <td>10800</td>\n",
              "      <td>11900</td>\n",
              "      <td>13150</td>\n",
              "    </tr>\n",
              "    <tr>\n",
              "      <th>2019-04-01</th>\n",
              "      <td>10800</td>\n",
              "      <td>11900</td>\n",
              "      <td>13150</td>\n",
              "    </tr>\n",
              "    <tr>\n",
              "      <th>2019-07-01</th>\n",
              "      <td>10800</td>\n",
              "      <td>11950</td>\n",
              "      <td>13150</td>\n",
              "    </tr>\n",
              "    <tr>\n",
              "      <th>2019-08-01</th>\n",
              "      <td>10850</td>\n",
              "      <td>11950</td>\n",
              "      <td>13150</td>\n",
              "    </tr>\n",
              "    <tr>\n",
              "      <th>...</th>\n",
              "      <td>...</td>\n",
              "      <td>...</td>\n",
              "      <td>...</td>\n",
              "    </tr>\n",
              "    <tr>\n",
              "      <th>2021-06-12</th>\n",
              "      <td>10650</td>\n",
              "      <td>11700</td>\n",
              "      <td>12950</td>\n",
              "    </tr>\n",
              "    <tr>\n",
              "      <th>2021-07-12</th>\n",
              "      <td>10650</td>\n",
              "      <td>11700</td>\n",
              "      <td>12950</td>\n",
              "    </tr>\n",
              "    <tr>\n",
              "      <th>2021-08-12</th>\n",
              "      <td>10650</td>\n",
              "      <td>11700</td>\n",
              "      <td>12950</td>\n",
              "    </tr>\n",
              "    <tr>\n",
              "      <th>2021-09-12</th>\n",
              "      <td>10650</td>\n",
              "      <td>11700</td>\n",
              "      <td>12950</td>\n",
              "    </tr>\n",
              "    <tr>\n",
              "      <th>2021-10-12</th>\n",
              "      <td>10550</td>\n",
              "      <td>11650</td>\n",
              "      <td>12950</td>\n",
              "    </tr>\n",
              "  </tbody>\n",
              "</table>\n",
              "<p>724 rows × 3 columns</p>\n",
              "</div>"
            ],
            "text/plain": [
              "            Beras Kualitas Bawah  Beras Kualitas Medium  Beras Kualitas Super\n",
              "Date                                                                         \n",
              "2019-02-01                 10800                  11900                 13150\n",
              "2019-03-01                 10800                  11900                 13150\n",
              "2019-04-01                 10800                  11900                 13150\n",
              "2019-07-01                 10800                  11950                 13150\n",
              "2019-08-01                 10850                  11950                 13150\n",
              "...                          ...                    ...                   ...\n",
              "2021-06-12                 10650                  11700                 12950\n",
              "2021-07-12                 10650                  11700                 12950\n",
              "2021-08-12                 10650                  11700                 12950\n",
              "2021-09-12                 10650                  11700                 12950\n",
              "2021-10-12                 10550                  11650                 12950\n",
              "\n",
              "[724 rows x 3 columns]"
            ]
          },
          "metadata": {},
          "execution_count": 6
        }
      ],
      "source": [
        "df=pd.read_csv('beras - Sheet1 (2).csv', parse_dates=['Date'], index_col=['Date'])\n",
        "df"
      ]
    },
    {
      "cell_type": "code",
      "execution_count": null,
      "id": "f1e1fd81",
      "metadata": {
        "colab": {
          "base_uri": "https://localhost:8080/",
          "height": 300
        },
        "id": "f1e1fd81",
        "outputId": "345d48a0-db4c-4244-be39-f670a6e60581"
      },
      "outputs": [
        {
          "output_type": "execute_result",
          "data": {
            "text/html": [
              "<div>\n",
              "<style scoped>\n",
              "    .dataframe tbody tr th:only-of-type {\n",
              "        vertical-align: middle;\n",
              "    }\n",
              "\n",
              "    .dataframe tbody tr th {\n",
              "        vertical-align: top;\n",
              "    }\n",
              "\n",
              "    .dataframe thead th {\n",
              "        text-align: right;\n",
              "    }\n",
              "</style>\n",
              "<table border=\"1\" class=\"dataframe\">\n",
              "  <thead>\n",
              "    <tr style=\"text-align: right;\">\n",
              "      <th></th>\n",
              "      <th>Beras Kualitas Bawah</th>\n",
              "      <th>Beras Kualitas Medium</th>\n",
              "      <th>Beras Kualitas Super</th>\n",
              "    </tr>\n",
              "  </thead>\n",
              "  <tbody>\n",
              "    <tr>\n",
              "      <th>count</th>\n",
              "      <td>724.000000</td>\n",
              "      <td>724.000000</td>\n",
              "      <td>724.000000</td>\n",
              "    </tr>\n",
              "    <tr>\n",
              "      <th>mean</th>\n",
              "      <td>10743.922652</td>\n",
              "      <td>11826.657459</td>\n",
              "      <td>13080.732044</td>\n",
              "    </tr>\n",
              "    <tr>\n",
              "      <th>std</th>\n",
              "      <td>112.517155</td>\n",
              "      <td>106.921663</td>\n",
              "      <td>86.171947</td>\n",
              "    </tr>\n",
              "    <tr>\n",
              "      <th>min</th>\n",
              "      <td>10550.000000</td>\n",
              "      <td>11400.000000</td>\n",
              "      <td>12650.000000</td>\n",
              "    </tr>\n",
              "    <tr>\n",
              "      <th>25%</th>\n",
              "      <td>10650.000000</td>\n",
              "      <td>11750.000000</td>\n",
              "      <td>13050.000000</td>\n",
              "    </tr>\n",
              "    <tr>\n",
              "      <th>50%</th>\n",
              "      <td>10750.000000</td>\n",
              "      <td>11800.000000</td>\n",
              "      <td>13100.000000</td>\n",
              "    </tr>\n",
              "    <tr>\n",
              "      <th>75%</th>\n",
              "      <td>10800.000000</td>\n",
              "      <td>11850.000000</td>\n",
              "      <td>13150.000000</td>\n",
              "    </tr>\n",
              "    <tr>\n",
              "      <th>max</th>\n",
              "      <td>12500.000000</td>\n",
              "      <td>13250.000000</td>\n",
              "      <td>14000.000000</td>\n",
              "    </tr>\n",
              "  </tbody>\n",
              "</table>\n",
              "</div>"
            ],
            "text/plain": [
              "       Beras Kualitas Bawah  Beras Kualitas Medium  Beras Kualitas Super\n",
              "count            724.000000             724.000000            724.000000\n",
              "mean           10743.922652           11826.657459          13080.732044\n",
              "std              112.517155             106.921663             86.171947\n",
              "min            10550.000000           11400.000000          12650.000000\n",
              "25%            10650.000000           11750.000000          13050.000000\n",
              "50%            10750.000000           11800.000000          13100.000000\n",
              "75%            10800.000000           11850.000000          13150.000000\n",
              "max            12500.000000           13250.000000          14000.000000"
            ]
          },
          "metadata": {},
          "execution_count": 7
        }
      ],
      "source": [
        "df.describe()"
      ]
    },
    {
      "cell_type": "code",
      "execution_count": null,
      "id": "2ff280c3",
      "metadata": {
        "colab": {
          "base_uri": "https://localhost:8080/"
        },
        "id": "2ff280c3",
        "outputId": "43bbbb8e-b967-44c1-8c73-c3faa33905da"
      },
      "outputs": [
        {
          "output_type": "execute_result",
          "data": {
            "text/plain": [
              "Beras Kualitas Bawah     0\n",
              "Beras Kualitas Medium    0\n",
              "Beras Kualitas Super     0\n",
              "dtype: int64"
            ]
          },
          "metadata": {},
          "execution_count": 8
        }
      ],
      "source": [
        "df.isna().sum()"
      ]
    },
    {
      "cell_type": "code",
      "execution_count": null,
      "id": "ed07e10c",
      "metadata": {
        "colab": {
          "base_uri": "https://localhost:8080/"
        },
        "id": "ed07e10c",
        "outputId": "9cb23187-856b-47c7-fb90-6da683f75644"
      },
      "outputs": [
        {
          "output_type": "stream",
          "name": "stdout",
          "text": [
            "<class 'pandas.core.frame.DataFrame'>\n",
            "DatetimeIndex: 724 entries, 2019-02-01 to 2021-10-12\n",
            "Data columns (total 3 columns):\n",
            " #   Column                 Non-Null Count  Dtype\n",
            "---  ------                 --------------  -----\n",
            " 0   Beras Kualitas Bawah   724 non-null    int64\n",
            " 1   Beras Kualitas Medium  724 non-null    int64\n",
            " 2   Beras Kualitas Super   724 non-null    int64\n",
            "dtypes: int64(3)\n",
            "memory usage: 22.6 KB\n"
          ]
        }
      ],
      "source": [
        "df.info()"
      ]
    },
    {
      "cell_type": "code",
      "execution_count": null,
      "id": "b5f85a20",
      "metadata": {
        "colab": {
          "base_uri": "https://localhost:8080/",
          "height": 512
        },
        "id": "b5f85a20",
        "outputId": "8ef13785-681c-42ef-8af5-538d3ad8563d"
      },
      "outputs": [
        {
          "output_type": "display_data",
          "data": {
            "image/png": "[encoded data removed]",
            "text/plain": [
              "<Figure size 1152x720 with 1 Axes>"
            ]
          },
          "metadata": {}
        }
      ],
      "source": [
        "df.plot(figsize=(16, 10))\n",
        "plt.legend(fontsize=\"large\")\n",
        "plt.xlabel(\"Date\")\n",
        "plt.ylabel(\"Harga beras (kg)\");"
      ]
    },
    {
      "cell_type": "code",
      "execution_count": null,
      "id": "8a95da22",
      "metadata": {
        "id": "8a95da22"
      },
      "outputs": [],
      "source": [
        "# Kolom 'low' yang akan kita gunakan dalam membangun model\n",
        "# Slice kolom 'low' \n",
        "\n",
        "Low_data = df.iloc[:,0:1].values"
      ]
    },
    {
      "cell_type": "code",
      "execution_count": null,
      "id": "ad7e2ff3",
      "metadata": {
        "colab": {
          "base_uri": "https://localhost:8080/"
        },
        "id": "ad7e2ff3",
        "outputId": "445726bb-e3c1-4efb-d086-6da9dd165f0c"
      },
      "outputs": [
        {
          "output_type": "execute_result",
          "data": {
            "text/plain": [
              "array([[10800],\n",
              "       [10800],\n",
              "       [10800],\n",
              "       [10800],\n",
              "       [10850],\n",
              "       [10850],\n",
              "       [10850],\n",
              "       [10850],\n",
              "       [10850],\n",
              "       [10850],\n",
              "       [10850],\n",
              "       [10850],\n",
              "       [10850],\n",
              "       [10850],\n",
              "       [10850],\n",
              "       [10850],\n",
              "       [10850],\n",
              "       [10850],\n",
              "       [10850],\n",
              "       [10850],\n",
              "       [10850],\n",
              "       [10850],\n",
              "       [10850],\n",
              "       [10850],\n",
              "       [10850],\n",
              "       [10850],\n",
              "       [10850],\n",
              "       [10850],\n",
              "       [10850],\n",
              "       [10850],\n",
              "       [10850],\n",
              "       [10850],\n",
              "       [10850],\n",
              "       [10850],\n",
              "       [10850],\n",
              "       [10850],\n",
              "       [10850],\n",
              "       [10850],\n",
              "       [10850],\n",
              "       [10800],\n",
              "       [10800],\n",
              "       [10800],\n",
              "       [10800],\n",
              "       [10750],\n",
              "       [10800],\n",
              "       [10800],\n",
              "       [10800],\n",
              "       [10800],\n",
              "       [10750],\n",
              "       [10750],\n",
              "       [10750],\n",
              "       [10750],\n",
              "       [10750],\n",
              "       [10750],\n",
              "       [10750],\n",
              "       [10750],\n",
              "       [10750],\n",
              "       [10750],\n",
              "       [10750],\n",
              "       [10750],\n",
              "       [10750],\n",
              "       [10700],\n",
              "       [10700],\n",
              "       [10700],\n",
              "       [10700],\n",
              "       [10700],\n",
              "       [10700],\n",
              "       [10700],\n",
              "       [10700],\n",
              "       [10700],\n",
              "       [10650],\n",
              "       [10650],\n",
              "       [11800],\n",
              "       [10750],\n",
              "       [10650],\n",
              "       [10650],\n",
              "       [10650],\n",
              "       [10650],\n",
              "       [10650],\n",
              "       [10650],\n",
              "       [10650],\n",
              "       [10650],\n",
              "       [10650],\n",
              "       [10650],\n",
              "       [10650],\n",
              "       [10650],\n",
              "       [10650],\n",
              "       [10600],\n",
              "       [10650],\n",
              "       [10650],\n",
              "       [10650],\n",
              "       [10650],\n",
              "       [10650],\n",
              "       [10600],\n",
              "       [10600],\n",
              "       [10600],\n",
              "       [10600],\n",
              "       [10600],\n",
              "       [10600],\n",
              "       [10600],\n",
              "       [10600],\n",
              "       [10600],\n",
              "       [10600],\n",
              "       [10600],\n",
              "       [12500],\n",
              "       [10550],\n",
              "       [10600],\n",
              "       [10650],\n",
              "       [10600],\n",
              "       [10650],\n",
              "       [10650],\n",
              "       [10650],\n",
              "       [10650],\n",
              "       [10650],\n",
              "       [10650],\n",
              "       [10650],\n",
              "       [10650],\n",
              "       [10650],\n",
              "       [10650],\n",
              "       [10650],\n",
              "       [10650],\n",
              "       [10650],\n",
              "       [10650],\n",
              "       [10650],\n",
              "       [10700],\n",
              "       [10650],\n",
              "       [10650],\n",
              "       [10650],\n",
              "       [10650],\n",
              "       [10650],\n",
              "       [10650],\n",
              "       [10650],\n",
              "       [10650],\n",
              "       [10650],\n",
              "       [10650],\n",
              "       [10700],\n",
              "       [10650],\n",
              "       [10650],\n",
              "       [10650],\n",
              "       [10650],\n",
              "       [10650],\n",
              "       [10650],\n",
              "       [10650],\n",
              "       [10650],\n",
              "       [10600],\n",
              "       [10650],\n",
              "       [10650],\n",
              "       [10700],\n",
              "       [10650],\n",
              "       [10650],\n",
              "       [10650],\n",
              "       [10650],\n",
              "       [10650],\n",
              "       [10700],\n",
              "       [10650],\n",
              "       [10700],\n",
              "       [10650],\n",
              "       [10700],\n",
              "       [10750],\n",
              "       [10600],\n",
              "       [10650],\n",
              "       [10650],\n",
              "       [10650],\n",
              "       [10650],\n",
              "       [10650],\n",
              "       [10700],\n",
              "       [10650],\n",
              "       [10650],\n",
              "       [10650],\n",
              "       [10650],\n",
              "       [10650],\n",
              "       [10600],\n",
              "       [10650],\n",
              "       [10650],\n",
              "       [10650],\n",
              "       [10600],\n",
              "       [10600],\n",
              "       [10650],\n",
              "       [10600],\n",
              "       [10600],\n",
              "       [10600],\n",
              "       [10650],\n",
              "       [10650],\n",
              "       [10650],\n",
              "       [10650],\n",
              "       [10650],\n",
              "       [10650],\n",
              "       [10650],\n",
              "       [10650],\n",
              "       [10650],\n",
              "       [10650],\n",
              "       [10650],\n",
              "       [10650],\n",
              "       [10650],\n",
              "       [10700],\n",
              "       [10650],\n",
              "       [10700],\n",
              "       [10700],\n",
              "       [10700],\n",
              "       [10700],\n",
              "       [10700],\n",
              "       [10700],\n",
              "       [10700],\n",
              "       [10700],\n",
              "       [10700],\n",
              "       [10700],\n",
              "       [10700],\n",
              "       [10700],\n",
              "       [10700],\n",
              "       [10700],\n",
              "       [10700],\n",
              "       [10700],\n",
              "       [10700],\n",
              "       [10700],\n",
              "       [10650],\n",
              "       [10700],\n",
              "       [10700],\n",
              "       [10700],\n",
              "       [10700],\n",
              "       [10700],\n",
              "       [10750],\n",
              "       [10700],\n",
              "       [10700],\n",
              "       [10700],\n",
              "       [10700],\n",
              "       [10700],\n",
              "       [10700],\n",
              "       [10700],\n",
              "       [10700],\n",
              "       [10700],\n",
              "       [10700],\n",
              "       [10700],\n",
              "       [10700],\n",
              "       [10700],\n",
              "       [10700],\n",
              "       [10700],\n",
              "       [10650],\n",
              "       [10700],\n",
              "       [10700],\n",
              "       [10700],\n",
              "       [10700],\n",
              "       [10700],\n",
              "       [10700],\n",
              "       [10700],\n",
              "       [10700],\n",
              "       [10700],\n",
              "       [10850],\n",
              "       [10750],\n",
              "       [10650],\n",
              "       [10750],\n",
              "       [10750],\n",
              "       [10750],\n",
              "       [10900],\n",
              "       [10800],\n",
              "       [10800],\n",
              "       [10800],\n",
              "       [10850],\n",
              "       [10900],\n",
              "       [10800],\n",
              "       [10800],\n",
              "       [10800],\n",
              "       [10800],\n",
              "       [10800],\n",
              "       [10800],\n",
              "       [10800],\n",
              "       [10800],\n",
              "       [10800],\n",
              "       [10800],\n",
              "       [10800],\n",
              "       [10800],\n",
              "       [10800],\n",
              "       [10800],\n",
              "       [10800],\n",
              "       [10800],\n",
              "       [10800],\n",
              "       [10800],\n",
              "       [10800],\n",
              "       [10800],\n",
              "       [10800],\n",
              "       [10800],\n",
              "       [10800],\n",
              "       [10800],\n",
              "       [10900],\n",
              "       [10900],\n",
              "       [10800],\n",
              "       [10800],\n",
              "       [10800],\n",
              "       [10800],\n",
              "       [10800],\n",
              "       [10800],\n",
              "       [10800],\n",
              "       [10850],\n",
              "       [10850],\n",
              "       [10800],\n",
              "       [10850],\n",
              "       [10850],\n",
              "       [10800],\n",
              "       [10750],\n",
              "       [10850],\n",
              "       [10850],\n",
              "       [10850],\n",
              "       [10850],\n",
              "       [10850],\n",
              "       [10850],\n",
              "       [10850],\n",
              "       [10850],\n",
              "       [10850],\n",
              "       [10850],\n",
              "       [10850],\n",
              "       [10850],\n",
              "       [10850],\n",
              "       [10850],\n",
              "       [10850],\n",
              "       [10850],\n",
              "       [10900],\n",
              "       [10900],\n",
              "       [10900],\n",
              "       [10900],\n",
              "       [10900],\n",
              "       [10900],\n",
              "       [10900],\n",
              "       [10900],\n",
              "       [10900],\n",
              "       [10900],\n",
              "       [10900],\n",
              "       [10900],\n",
              "       [10900],\n",
              "       [10900],\n",
              "       [10900],\n",
              "       [10900],\n",
              "       [10900],\n",
              "       [10900],\n",
              "       [10900],\n",
              "       [10900],\n",
              "       [10900],\n",
              "       [10900],\n",
              "       [10900],\n",
              "       [10900],\n",
              "       [10850],\n",
              "       [10850],\n",
              "       [10850],\n",
              "       [10850],\n",
              "       [10850],\n",
              "       [10850],\n",
              "       [10850],\n",
              "       [10850],\n",
              "       [10850],\n",
              "       [10850],\n",
              "       [10850],\n",
              "       [10850],\n",
              "       [10850],\n",
              "       [10850],\n",
              "       [10850],\n",
              "       [10850],\n",
              "       [10850],\n",
              "       [10850],\n",
              "       [10850],\n",
              "       [10850],\n",
              "       [10850],\n",
              "       [10850],\n",
              "       [10850],\n",
              "       [10800],\n",
              "       [10800],\n",
              "       [10800],\n",
              "       [10800],\n",
              "       [10800],\n",
              "       [10800],\n",
              "       [10800],\n",
              "       [10800],\n",
              "       [10800],\n",
              "       [10800],\n",
              "       [10800],\n",
              "       [10800],\n",
              "       [10800],\n",
              "       [10800],\n",
              "       [10800],\n",
              "       [10800],\n",
              "       [10800],\n",
              "       [10800],\n",
              "       [10800],\n",
              "       [10800],\n",
              "       [10800],\n",
              "       [10800],\n",
              "       [10800],\n",
              "       [10800],\n",
              "       [10800],\n",
              "       [10800],\n",
              "       [10800],\n",
              "       [10800],\n",
              "       [10800],\n",
              "       [10800],\n",
              "       [10800],\n",
              "       [10800],\n",
              "       [10800],\n",
              "       [10800],\n",
              "       [10850],\n",
              "       [10800],\n",
              "       [10800],\n",
              "       [10800],\n",
              "       [10800],\n",
              "       [10800],\n",
              "       [10800],\n",
              "       [10800],\n",
              "       [10800],\n",
              "       [10800],\n",
              "       [10800],\n",
              "       [10800],\n",
              "       [10800],\n",
              "       [10800],\n",
              "       [10800],\n",
              "       [10800],\n",
              "       [10750],\n",
              "       [10750],\n",
              "       [10750],\n",
              "       [10750],\n",
              "       [10750],\n",
              "       [10750],\n",
              "       [10750],\n",
              "       [10750],\n",
              "       [10750],\n",
              "       [10750],\n",
              "       [10750],\n",
              "       [10750],\n",
              "       [10750],\n",
              "       [10750],\n",
              "       [10750],\n",
              "       [10750],\n",
              "       [10750],\n",
              "       [10750],\n",
              "       [10750],\n",
              "       [10750],\n",
              "       [10750],\n",
              "       [10750],\n",
              "       [10750],\n",
              "       [10750],\n",
              "       [10750],\n",
              "       [10750],\n",
              "       [10750],\n",
              "       [10750],\n",
              "       [10750],\n",
              "       [10800],\n",
              "       [10800],\n",
              "       [10800],\n",
              "       [10750],\n",
              "       [10750],\n",
              "       [10750],\n",
              "       [10750],\n",
              "       [10750],\n",
              "       [10750],\n",
              "       [10750],\n",
              "       [10700],\n",
              "       [10750],\n",
              "       [10750],\n",
              "       [10800],\n",
              "       [10800],\n",
              "       [10800],\n",
              "       [10800],\n",
              "       [10800],\n",
              "       [10800],\n",
              "       [10750],\n",
              "       [10750],\n",
              "       [10750],\n",
              "       [10750],\n",
              "       [10750],\n",
              "       [10750],\n",
              "       [10750],\n",
              "       [10750],\n",
              "       [10750],\n",
              "       [10750],\n",
              "       [10750],\n",
              "       [10750],\n",
              "       [10750],\n",
              "       [10800],\n",
              "       [10750],\n",
              "       [10750],\n",
              "       [10750],\n",
              "       [10750],\n",
              "       [10750],\n",
              "       [10750],\n",
              "       [10750],\n",
              "       [10750],\n",
              "       [10750],\n",
              "       [10750],\n",
              "       [10750],\n",
              "       [10750],\n",
              "       [10750],\n",
              "       [10750],\n",
              "       [10750],\n",
              "       [10750],\n",
              "       [10750],\n",
              "       [10750],\n",
              "       [10800],\n",
              "       [10850],\n",
              "       [10800],\n",
              "       [10800],\n",
              "       [10800],\n",
              "       [10800],\n",
              "       [10800],\n",
              "       [10800],\n",
              "       [10800],\n",
              "       [10800],\n",
              "       [10800],\n",
              "       [10800],\n",
              "       [10800],\n",
              "       [10800],\n",
              "       [10800],\n",
              "       [10800],\n",
              "       [10800],\n",
              "       [10850],\n",
              "       [10800],\n",
              "       [10800],\n",
              "       [10850],\n",
              "       [10850],\n",
              "       [10850],\n",
              "       [10850],\n",
              "       [10850],\n",
              "       [10800],\n",
              "       [10800],\n",
              "       [10800],\n",
              "       [10800],\n",
              "       [10800],\n",
              "       [10800],\n",
              "       [10800],\n",
              "       [10750],\n",
              "       [10800],\n",
              "       [10800],\n",
              "       [10800],\n",
              "       [10800],\n",
              "       [10800],\n",
              "       [10800],\n",
              "       [10800],\n",
              "       [10800],\n",
              "       [10800],\n",
              "       [10800],\n",
              "       [10800],\n",
              "       [10800],\n",
              "       [10800],\n",
              "       [10800],\n",
              "       [10800],\n",
              "       [10800],\n",
              "       [10800],\n",
              "       [10800],\n",
              "       [11300],\n",
              "       [10800],\n",
              "       [10800],\n",
              "       [10750],\n",
              "       [10800],\n",
              "       [10800],\n",
              "       [10800],\n",
              "       [10800],\n",
              "       [10750],\n",
              "       [10800],\n",
              "       [10750],\n",
              "       [10750],\n",
              "       [10750],\n",
              "       [10750],\n",
              "       [10750],\n",
              "       [10750],\n",
              "       [10750],\n",
              "       [10750],\n",
              "       [10750],\n",
              "       [10750],\n",
              "       [10750],\n",
              "       [10750],\n",
              "       [10750],\n",
              "       [10750],\n",
              "       [10750],\n",
              "       [10750],\n",
              "       [10750],\n",
              "       [10750],\n",
              "       [10750],\n",
              "       [10750],\n",
              "       [10750],\n",
              "       [10750],\n",
              "       [10750],\n",
              "       [10750],\n",
              "       [10750],\n",
              "       [10750],\n",
              "       [10700],\n",
              "       [10700],\n",
              "       [10700],\n",
              "       [10700],\n",
              "       [10750],\n",
              "       [10700],\n",
              "       [10700],\n",
              "       [10700],\n",
              "       [10700],\n",
              "       [10700],\n",
              "       [10700],\n",
              "       [10700],\n",
              "       [10700],\n",
              "       [10700],\n",
              "       [10700],\n",
              "       [10700],\n",
              "       [10700],\n",
              "       [10700],\n",
              "       [10700],\n",
              "       [10700],\n",
              "       [10700],\n",
              "       [10700],\n",
              "       [10700],\n",
              "       [10700],\n",
              "       [10700],\n",
              "       [10700],\n",
              "       [10700],\n",
              "       [10700],\n",
              "       [10700],\n",
              "       [10700],\n",
              "       [10700],\n",
              "       [10700],\n",
              "       [10700],\n",
              "       [10700],\n",
              "       [10700],\n",
              "       [10700],\n",
              "       [10700],\n",
              "       [10700],\n",
              "       [10700],\n",
              "       [10700],\n",
              "       [10700],\n",
              "       [10700],\n",
              "       [10650],\n",
              "       [10650],\n",
              "       [10650],\n",
              "       [10650],\n",
              "       [10700],\n",
              "       [10650],\n",
              "       [10650],\n",
              "       [10650],\n",
              "       [10650],\n",
              "       [10650],\n",
              "       [10650],\n",
              "       [10650],\n",
              "       [10650],\n",
              "       [10650],\n",
              "       [10650],\n",
              "       [10650],\n",
              "       [10650],\n",
              "       [10650],\n",
              "       [10650],\n",
              "       [10650],\n",
              "       [10650],\n",
              "       [10650],\n",
              "       [10650],\n",
              "       [10650],\n",
              "       [10550],\n",
              "       [10650],\n",
              "       [10650],\n",
              "       [10650],\n",
              "       [10650],\n",
              "       [10650],\n",
              "       [10650],\n",
              "       [10650],\n",
              "       [10650],\n",
              "       [10650],\n",
              "       [10650],\n",
              "       [10650],\n",
              "       [10650],\n",
              "       [10650],\n",
              "       [10650],\n",
              "       [10650],\n",
              "       [10650],\n",
              "       [10650],\n",
              "       [10650],\n",
              "       [10650],\n",
              "       [10650],\n",
              "       [10650],\n",
              "       [10650],\n",
              "       [10650],\n",
              "       [10650],\n",
              "       [10650],\n",
              "       [10650],\n",
              "       [10650],\n",
              "       [10650],\n",
              "       [10650],\n",
              "       [10650],\n",
              "       [10650],\n",
              "       [10650],\n",
              "       [10650],\n",
              "       [10650],\n",
              "       [10650],\n",
              "       [10650],\n",
              "       [10650],\n",
              "       [10650],\n",
              "       [10650],\n",
              "       [10650],\n",
              "       [10700],\n",
              "       [10700],\n",
              "       [10650],\n",
              "       [10650],\n",
              "       [10650],\n",
              "       [10650],\n",
              "       [10650],\n",
              "       [10650],\n",
              "       [10650],\n",
              "       [10650],\n",
              "       [10650],\n",
              "       [10650],\n",
              "       [10650],\n",
              "       [10650],\n",
              "       [10650],\n",
              "       [10650],\n",
              "       [10650],\n",
              "       [10650],\n",
              "       [10650],\n",
              "       [10650],\n",
              "       [10650],\n",
              "       [10700],\n",
              "       [10650],\n",
              "       [10650],\n",
              "       [10650],\n",
              "       [10650],\n",
              "       [10650],\n",
              "       [10650],\n",
              "       [10650],\n",
              "       [10650],\n",
              "       [10650],\n",
              "       [10650],\n",
              "       [10650],\n",
              "       [10650],\n",
              "       [10650],\n",
              "       [10650],\n",
              "       [10650],\n",
              "       [10650],\n",
              "       [10550]])"
            ]
          },
          "metadata": {},
          "execution_count": 12
        }
      ],
      "source": [
        "# cek output low_data\n",
        "Low_data  "
      ]
    },
    {
      "cell_type": "code",
      "execution_count": null,
      "id": "d16e83ce",
      "metadata": {
        "id": "d16e83ce"
      },
      "outputs": [],
      "source": [
        ""
      ]
    },
    {
      "cell_type": "markdown",
      "id": "1246119c",
      "metadata": {
        "id": "1246119c"
      },
      "source": [
        "###  Data Preprocessing"
      ]
    },
    {
      "cell_type": "code",
      "execution_count": null,
      "id": "95b59b9a",
      "metadata": {
        "id": "95b59b9a"
      },
      "outputs": [],
      "source": [
        "# Menskalakan data antara 1 dan 0 (scaling) pada low data\n",
        "\n",
        "scaler = MinMaxScaler(feature_range=(0,1))      "
      ]
    },
    {
      "cell_type": "code",
      "execution_count": null,
      "id": "0603c92d",
      "metadata": {
        "id": "0603c92d"
      },
      "outputs": [],
      "source": [
        "# definisikan variabel step dan train \n",
        "\n",
        "Low_scaled = scaler.fit_transform(Low_data)                    \n",
        "\n",
        "step_size = 21                    \n",
        "\n",
        "train_x = []\n",
        "train_y = []"
      ]
    },
    {
      "cell_type": "code",
      "execution_count": null,
      "id": "094d039e",
      "metadata": {
        "id": "094d039e"
      },
      "outputs": [],
      "source": [
        "# membuat fitur dan lists label\n",
        "\n",
        "for i in range(step_size,723):                \n",
        "    train_x.append(Low_scaled[i-step_size:i,0])\n",
        "    train_y.append(Low_scaled[i,0])"
      ]
    },
    {
      "cell_type": "code",
      "execution_count": null,
      "id": "7ca2b826",
      "metadata": {
        "id": "7ca2b826"
      },
      "outputs": [],
      "source": [
        "# mengonversi list yang telah dibuat sebelumnya ke array\n",
        "\n",
        "train_x = np.array(train_x)                  \n",
        "train_y = np.array(train_y)"
      ]
    },
    {
      "cell_type": "code",
      "execution_count": null,
      "id": "549d1e52",
      "metadata": {
        "colab": {
          "base_uri": "https://localhost:8080/"
        },
        "id": "549d1e52",
        "outputId": "151be003-68c3-4eb5-a07a-2bd1dc22e0a2"
      },
      "outputs": [
        {
          "output_type": "stream",
          "name": "stdout",
          "text": [
            "(702, 21)\n"
          ]
        }
      ],
      "source": [
        "# cek dimensi data dengan function .shape\n",
        "\n",
        "print(train_x.shape)"
      ]
    },
    {
      "cell_type": "code",
      "execution_count": null,
      "id": "f1ebcba9",
      "metadata": {
        "id": "f1ebcba9"
      },
      "outputs": [],
      "source": [
        "# 202 hari terakhir akan digunakan dalam pengujian\n",
        "# 500 hari pertama akan digunakan dalam pelatihan\n",
        "\n",
        "test_x = train_x[500:]            \n",
        "train_x = train_x[:500]           \n",
        "test_y = train_y[500:]  \n",
        "train_y = train_y[:500]"
      ]
    },
    {
      "cell_type": "code",
      "execution_count": null,
      "id": "d2224f90",
      "metadata": {
        "id": "d2224f90"
      },
      "outputs": [],
      "source": [
        "# reshape data untuk dimasukkan kedalam Keras model\n",
        "\n",
        "train_x = np.reshape(train_x, (500, step_size, 1))           \n",
        "test_x = np.reshape(test_x, (202, step_size, 1))"
      ]
    },
    {
      "cell_type": "code",
      "execution_count": null,
      "id": "730b57dd",
      "metadata": {
        "colab": {
          "base_uri": "https://localhost:8080/"
        },
        "id": "730b57dd",
        "outputId": "865a9628-ac63-46be-bf83-1c94478e07d6"
      },
      "outputs": [
        {
          "output_type": "stream",
          "name": "stdout",
          "text": [
            "(500, 21, 1)\n",
            "(202, 21, 1)\n"
          ]
        }
      ],
      "source": [
        "# cek kembali dimensi data yang telah di reshape dengan function .shape\n",
        "\n",
        "print(train_x.shape)\n",
        "print(test_x.shape) "
      ]
    },
    {
      "cell_type": "markdown",
      "id": "30260c83",
      "metadata": {
        "id": "30260c83"
      },
      "source": [
        "Sekarang kita bisa mulai membuat model kita, dimulai dengan RNN"
      ]
    },
    {
      "cell_type": "markdown",
      "id": "2926d5e2",
      "metadata": {
        "id": "2926d5e2"
      },
      "source": [
        "## Build Model - RNN"
      ]
    },
    {
      "cell_type": "code",
      "execution_count": null,
      "id": "6c69a22d",
      "metadata": {
        "id": "6c69a22d"
      },
      "outputs": [],
      "source": [
        "# buat varibel penampung model RNN\n",
        "rnn_model = Sequential()"
      ]
    },
    {
      "cell_type": "code",
      "execution_count": null,
      "id": "28f7b7eb",
      "metadata": {
        "id": "28f7b7eb"
      },
      "outputs": [],
      "source": [
        "# Output dari SimpleRNN akan menjadi bentuk tensor 2D (batch_size, 40) dengan Dropout sebesar 0.20\n",
        "\n",
        "rnn_model.add(SimpleRNN(40,activation=\"tanh\",return_sequences=True, input_shape=(train_x.shape[1],1)))\n",
        "rnn_model.add(Dropout(0.15))\n",
        "\n",
        "rnn_model.add(SimpleRNN(40,activation=\"tanh\",return_sequences=True))\n",
        "rnn_model.add(Dropout(0.15))\n",
        "\n",
        "rnn_model.add(SimpleRNN(40,activation=\"tanh\",return_sequences=False))\n",
        "rnn_model.add(Dropout(0.15))\n",
        "\n",
        "# Add a Dense layer with 1 units.\n",
        "rnn_model.add(Dense(1))"
      ]
    },
    {
      "cell_type": "code",
      "execution_count": null,
      "id": "751a12ea",
      "metadata": {
        "id": "751a12ea"
      },
      "outputs": [],
      "source": [
        "# menambahkan loss function kedalam model RNN dengan tipe MSE\n",
        "\n",
        "rnn_model.compile(optimizer=\"adam\",loss=\"MSE\")"
      ]
    },
    {
      "cell_type": "code",
      "execution_count": null,
      "id": "7daa98f3",
      "metadata": {
        "colab": {
          "base_uri": "https://localhost:8080/"
        },
        "id": "7daa98f3",
        "outputId": "cda9d94b-911f-407f-8178-0723fda0a702"
      },
      "outputs": [
        {
          "output_type": "stream",
          "name": "stdout",
          "text": [
            "Epoch 1/20\n",
            "7/7 [==============================] - 2s 23ms/step - loss: 0.1493\n",
            "Epoch 2/20\n",
            "7/7 [==============================] - 0s 22ms/step - loss: 0.0729\n",
            "Epoch 3/20\n",
            "7/7 [==============================] - 0s 20ms/step - loss: 0.0399\n",
            "Epoch 4/20\n",
            "7/7 [==============================] - 0s 20ms/step - loss: 0.0382\n",
            "Epoch 5/20\n",
            "7/7 [==============================] - 0s 21ms/step - loss: 0.0295\n",
            "Epoch 6/20\n",
            "7/7 [==============================] - 0s 20ms/step - loss: 0.0253\n",
            "Epoch 7/20\n",
            "7/7 [==============================] - 0s 19ms/step - loss: 0.0191\n",
            "Epoch 8/20\n",
            "7/7 [==============================] - 0s 19ms/step - loss: 0.0206\n",
            "Epoch 9/20\n",
            "7/7 [==============================] - 0s 23ms/step - loss: 0.0143\n",
            "Epoch 10/20\n",
            "7/7 [==============================] - 0s 22ms/step - loss: 0.0141\n",
            "Epoch 11/20\n",
            "7/7 [==============================] - 0s 21ms/step - loss: 0.0127\n",
            "Epoch 12/20\n",
            "7/7 [==============================] - 0s 21ms/step - loss: 0.0113\n",
            "Epoch 13/20\n",
            "7/7 [==============================] - 0s 20ms/step - loss: 0.0125\n",
            "Epoch 14/20\n",
            "7/7 [==============================] - 0s 20ms/step - loss: 0.0107\n",
            "Epoch 15/20\n",
            "7/7 [==============================] - 0s 19ms/step - loss: 0.0103\n",
            "Epoch 16/20\n",
            "7/7 [==============================] - 0s 23ms/step - loss: 0.0092\n",
            "Epoch 17/20\n",
            "7/7 [==============================] - 0s 20ms/step - loss: 0.0096\n",
            "Epoch 18/20\n",
            "7/7 [==============================] - 0s 20ms/step - loss: 0.0069\n",
            "Epoch 19/20\n",
            "7/7 [==============================] - 0s 21ms/step - loss: 0.0076\n",
            "Epoch 20/20\n",
            "7/7 [==============================] - 0s 21ms/step - loss: 0.0076\n"
          ]
        },
        {
          "output_type": "execute_result",
          "data": {
            "text/plain": [
              "<keras.callbacks.History at 0x7fbf0b6847d0>"
            ]
          },
          "metadata": {},
          "execution_count": 31
        }
      ],
      "source": [
        "# fit the model RNN, dengan epoch 20 dan batch size 25\n",
        "\n",
        "rnn_model.fit(train_x,train_y,epochs=20,batch_size=75)"
      ]
    },
    {
      "cell_type": "code",
      "execution_count": null,
      "id": "889117d9",
      "metadata": {
        "id": "889117d9"
      },
      "outputs": [],
      "source": [
        "# Prediksi Model RNN\n",
        "rnn_predictions = rnn_model.predict(test_x)\n",
        "\n",
        "rnn_score = r2_score(test_y,rnn_predictions)"
      ]
    },
    {
      "cell_type": "code",
      "execution_count": null,
      "id": "117c7a1b",
      "metadata": {
        "colab": {
          "base_uri": "https://localhost:8080/"
        },
        "id": "117c7a1b",
        "outputId": "cfe44aa5-1f28-4035-8c79-c1fea88c9a25"
      },
      "outputs": [
        {
          "output_type": "execute_result",
          "data": {
            "text/plain": [
              "0.33176312608451775"
            ]
          },
          "metadata": {},
          "execution_count": 33
        }
      ],
      "source": [
        "rnn_score"
      ]
    },
    {
      "cell_type": "code",
      "execution_count": null,
      "id": "cdc94b82",
      "metadata": {
        "id": "cdc94b82"
      },
      "outputs": [],
      "source": [
        ""
      ]
    },
    {
      "cell_type": "markdown",
      "source": [
        "###  Build Model - LSTM\n"
      ],
      "metadata": {
        "id": "tSazeop0vrzw"
      },
      "id": "tSazeop0vrzw"
    },
    {
      "cell_type": "code",
      "source": [
        "# buat varibel penampung model LSTM\n",
        "lstm_model = Sequential()"
      ],
      "metadata": {
        "id": "dxIJkhEmvzmN"
      },
      "id": "dxIJkhEmvzmN",
      "execution_count": null,
      "outputs": []
    },
    {
      "cell_type": "code",
      "source": [
        "# Add a LSTM layer with 40 internal units. dengan Dropout sebesar 0.20\n",
        "\n",
        "lstm_model.add(LSTM(40,activation=\"tanh\",return_sequences=True, input_shape=(train_x.shape[1],1)))\n",
        "lstm_model.add(Dropout(0.15))\n",
        "\n",
        "lstm_model.add(LSTM(40,activation=\"tanh\",return_sequences=True))\n",
        "lstm_model.add(Dropout(0.15))\n",
        "\n",
        "lstm_model.add(LSTM(40,activation=\"tanh\",return_sequences=False))\n",
        "lstm_model.add(Dropout(0.15))\n",
        "\n",
        "# Add a Dense layer with 1 units.\n",
        "lstm_model.add(Dense(1))"
      ],
      "metadata": {
        "id": "LKDvnCAiv70b"
      },
      "id": "LKDvnCAiv70b",
      "execution_count": null,
      "outputs": []
    },
    {
      "cell_type": "code",
      "source": [
        "# menambahkan loss function kedalam model lstm dengan tipe MSE\n",
        "\n",
        "lstm_model.compile(optimizer=\"adam\",loss=\"MSE\")"
      ],
      "metadata": {
        "id": "wXb-bRnDwH21"
      },
      "id": "wXb-bRnDwH21",
      "execution_count": null,
      "outputs": []
    },
    {
      "cell_type": "code",
      "source": [
        "# fit lstm model, dengan epoch 20 dan batch size 25\n",
        "\n",
        "lstm_model.fit(train_x,train_y,epochs=20,batch_size=75)"
      ],
      "metadata": {
        "colab": {
          "base_uri": "https://localhost:8080/"
        },
        "id": "ybzuucPfwM1Y",
        "outputId": "b0fe6fcb-c619-4546-a271-8f0ace21ae22"
      },
      "id": "ybzuucPfwM1Y",
      "execution_count": null,
      "outputs": [
        {
          "output_type": "stream",
          "name": "stdout",
          "text": [
            "Epoch 1/20\n",
            "7/7 [==============================] - 6s 45ms/step - loss: 0.0063\n",
            "Epoch 2/20\n",
            "7/7 [==============================] - 0s 41ms/step - loss: 0.0039\n",
            "Epoch 3/20\n",
            "7/7 [==============================] - 0s 42ms/step - loss: 0.0036\n",
            "Epoch 4/20\n",
            "7/7 [==============================] - 0s 41ms/step - loss: 0.0034\n",
            "Epoch 5/20\n",
            "7/7 [==============================] - 0s 44ms/step - loss: 0.0032\n",
            "Epoch 6/20\n",
            "7/7 [==============================] - 0s 43ms/step - loss: 0.0032\n",
            "Epoch 7/20\n",
            "7/7 [==============================] - 0s 43ms/step - loss: 0.0031\n",
            "Epoch 8/20\n",
            "7/7 [==============================] - 0s 42ms/step - loss: 0.0029\n",
            "Epoch 9/20\n",
            "7/7 [==============================] - 0s 42ms/step - loss: 0.0030\n",
            "Epoch 10/20\n",
            "7/7 [==============================] - 0s 44ms/step - loss: 0.0030\n",
            "Epoch 11/20\n",
            "7/7 [==============================] - 0s 42ms/step - loss: 0.0030\n",
            "Epoch 12/20\n",
            "7/7 [==============================] - 0s 40ms/step - loss: 0.0030\n",
            "Epoch 13/20\n",
            "7/7 [==============================] - 0s 41ms/step - loss: 0.0030\n",
            "Epoch 14/20\n",
            "7/7 [==============================] - 0s 46ms/step - loss: 0.0030\n",
            "Epoch 15/20\n",
            "7/7 [==============================] - 0s 40ms/step - loss: 0.0029\n",
            "Epoch 16/20\n",
            "7/7 [==============================] - 0s 39ms/step - loss: 0.0030\n",
            "Epoch 17/20\n",
            "7/7 [==============================] - 0s 42ms/step - loss: 0.0030\n",
            "Epoch 18/20\n",
            "7/7 [==============================] - 0s 40ms/step - loss: 0.0030\n",
            "Epoch 19/20\n",
            "7/7 [==============================] - 0s 39ms/step - loss: 0.0030\n",
            "Epoch 20/20\n",
            "7/7 [==============================] - 0s 40ms/step - loss: 0.0029\n"
          ]
        },
        {
          "output_type": "execute_result",
          "data": {
            "text/plain": [
              "<keras.callbacks.History at 0x7fbf06bf4950>"
            ]
          },
          "metadata": {},
          "execution_count": 37
        }
      ]
    },
    {
      "cell_type": "code",
      "source": [
        "# Prediksi Model LSTM\n",
        "lstm_predictions = lstm_model.predict(test_x)\n",
        "\n",
        "lstm_score = r2_score(test_y,lstm_predictions)"
      ],
      "metadata": {
        "id": "anPidUT1wZ--"
      },
      "id": "anPidUT1wZ--",
      "execution_count": null,
      "outputs": []
    },
    {
      "cell_type": "code",
      "source": [
        "lstm_score"
      ],
      "metadata": {
        "colab": {
          "base_uri": "https://localhost:8080/"
        },
        "id": "YA1L84sSwebs",
        "outputId": "7b120253-1b89-4552-e444-a12eb02a97ec"
      },
      "id": "YA1L84sSwebs",
      "execution_count": null,
      "outputs": [
        {
          "output_type": "execute_result",
          "data": {
            "text/plain": [
              "0.6266863393181721"
            ]
          },
          "metadata": {},
          "execution_count": 39
        }
      ]
    },
    {
      "cell_type": "markdown",
      "source": [
        "## Evaluasi\n"
      ],
      "metadata": {
        "id": "eZfGvSncwk7G"
      },
      "id": "eZfGvSncwk7G"
    },
    {
      "cell_type": "code",
      "source": [
        "# Cetak nilai prediksi masing-masing model dengan menggunakan r^2 square\n",
        "\n",
        "print(\"R^2 Score dari model RNN\",rnn_score)\n",
        "print(\"R^2 Score dari model LSTM\",lstm_score)"
      ],
      "metadata": {
        "colab": {
          "base_uri": "https://localhost:8080/"
        },
        "id": "9IKQb5Iawq0X",
        "outputId": "54aa5423-bf9d-43e1-e320-f099bd821c6a"
      },
      "id": "9IKQb5Iawq0X",
      "execution_count": null,
      "outputs": [
        {
          "output_type": "stream",
          "name": "stdout",
          "text": [
            "R^2 Score dari model RNN 0.33176312608451775\n",
            "R^2 Score dari model LSTM 0.6266863393181721\n"
          ]
        }
      ]
    },
    {
      "cell_type": "markdown",
      "source": [
        "### Visualisasi Perbandingan Hasil Model prediksi dengan data original"
      ],
      "metadata": {
        "id": "16oYtIe6w3Bc"
      },
      "id": "16oYtIe6w3Bc"
    },
    {
      "cell_type": "code",
      "source": [
        "lstm_predictions = scaler.inverse_transform(lstm_predictions)\n",
        "rnn_predictions = scaler.inverse_transform(rnn_predictions)\n",
        "test_y = scaler.inverse_transform(test_y.reshape(-1,1))"
      ],
      "metadata": {
        "id": "DcoLClCFwwXa"
      },
      "id": "DcoLClCFwwXa",
      "execution_count": null,
      "outputs": []
    },
    {
      "cell_type": "code",
      "source": [
        "plt.figure(figsize=(16,12))\n",
        "\n",
        "plt.plot(test_y, c=\"blue\",linewidth=2, label=\"original\")\n",
        "plt.plot(lstm_predictions, c=\"green\",linewidth=2, label=\"LSTM\")\n",
        "plt.plot(rnn_predictions, c=\"red\",linewidth=2, label=\"RNN\")\n",
        "plt.legend()\n",
        "plt.title(\"PERBANDINGAN\",fontsize=20)\n",
        "plt.grid()\n",
        "plt.show()"
      ],
      "metadata": {
        "colab": {
          "base_uri": "https://localhost:8080/",
          "height": 683
        },
        "id": "nMS4WtfQw8ot",
        "outputId": "bebfe120-5f72-427f-d35e-6c702778ac72"
      },
      "id": "nMS4WtfQw8ot",
      "execution_count": null,
      "outputs": [
        {
          "output_type": "display_data",
          "data": {
            "image/png": "[encoded data removed]",
            "text/plain": [
              "<Figure size 1152x864 with 1 Axes>"
            ]
          },
          "metadata": {}
        }
      ]
    }
  ],
  "metadata": {
    "kernelspec": {
      "display_name": "Python 3 (ipykernel)",
      "language": "python",
      "name": "python3"
    },
    "language_info": {
      "codemirror_mode": {
        "name": "ipython",
        "version": 3
      },
      "file_extension": ".py",
      "mimetype": "text/x-python",
      "name": "python",
      "nbconvert_exporter": "python",
      "pygments_lexer": "ipython3",
      "version": "3.9.7"
    },
    "colab": {
      "name": "beras.ipynb",
      "provenance": []
    }
  },
  "nbformat": 4,
  "nbformat_minor": 5
}